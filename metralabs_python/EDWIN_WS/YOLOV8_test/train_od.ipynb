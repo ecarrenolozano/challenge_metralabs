{
 "cells": [
  {
   "cell_type": "markdown",
   "metadata": {},
   "source": [
    "# Stage: **Training**\n",
    "## Function: YOLOv8 (Object detection)"
   ]
  },
  {
   "cell_type": "code",
   "execution_count": 1,
   "metadata": {},
   "outputs": [],
   "source": [
    "import json \n",
    "import os\n",
    "import cv2\n",
    "\n",
    "from matplotlib import pyplot as plt\n",
    "from ultralytics import YOLO"
   ]
  },
  {
   "cell_type": "markdown",
   "metadata": {},
   "source": [
    "### Paths for Datasets"
   ]
  },
  {
   "cell_type": "code",
   "execution_count": 2,
   "metadata": {},
   "outputs": [
    {
     "name": "stdout",
     "output_type": "stream",
     "text": [
      "Root dataset: \n",
      "\t/home/egcarren/datasets/dataset_for_yolo_splitted\n",
      "Root exist? : True\n"
     ]
    }
   ],
   "source": [
    "base_path = \"/home/egcarren/datasets\"\n",
    "datasets_main_folder = \"\"\n",
    "dataset = \"dataset_for_yolo_splitted\"\n",
    "\n",
    "root_path = os.path.join(base_path, datasets_main_folder, dataset)\n",
    "print(\"Root dataset: \\n\\t{}\".format(root_path))\n",
    "print(\"Root exist? : {}\".format(os.path.isdir(root_path)))"
   ]
  },
  {
   "cell_type": "markdown",
   "metadata": {},
   "source": [
    "#### Loading pretrained model "
   ]
  },
  {
   "cell_type": "code",
   "execution_count": 3,
   "metadata": {},
   "outputs": [
    {
     "name": "stdout",
     "output_type": "stream",
     "text": [
      "Downloading https://github.com/ultralytics/assets/releases/download/v8.2.0/yolov8n.pt to 'yolov8n.pt'...\n"
     ]
    },
    {
     "name": "stderr",
     "output_type": "stream",
     "text": [
      "100%|██████████| 6.23M/6.23M [00:00<00:00, 82.7MB/s]\n"
     ]
    }
   ],
   "source": [
    "# Load a pretrained YOLO model\n",
    "model = YOLO(\"yolov8n.pt\")"
   ]
  },
  {
   "cell_type": "markdown",
   "metadata": {},
   "source": [
    "#### Training Model"
   ]
  },
  {
   "cell_type": "code",
   "execution_count": 5,
   "metadata": {},
   "outputs": [
    {
     "name": "stdout",
     "output_type": "stream",
     "text": [
      "New https://pypi.org/project/ultralytics/8.2.22 available 😃 Update with 'pip install -U ultralytics'\n",
      "Ultralytics YOLOv8.2.21 🚀 Python-3.10.14 torch-2.3.0+cu118 CPU (Intel Core(TM) i7-10750H 2.60GHz)\n",
      "\u001b[34m\u001b[1mengine/trainer: \u001b[0mtask=detect, mode=train, model=yolov8n.pt, data=/home/egcarren/datasets/dataset_for_yolo_splitted/dataset_products.yaml, epochs=10, time=None, patience=100, batch=16, imgsz=640, save=True, save_period=-1, cache=False, device=cpu, workers=8, project=None, name=train, exist_ok=True, pretrained=True, optimizer=auto, verbose=True, seed=0, deterministic=True, single_cls=False, rect=False, cos_lr=False, close_mosaic=10, resume=False, amp=True, fraction=1.0, profile=False, freeze=None, multi_scale=False, overlap_mask=True, mask_ratio=4, dropout=0.3, val=True, split=val, save_json=False, save_hybrid=False, conf=None, iou=0.7, max_det=300, half=False, dnn=False, plots=True, source=None, vid_stride=1, stream_buffer=False, visualize=False, augment=False, agnostic_nms=False, classes=None, retina_masks=False, embed=None, show=False, save_frames=False, save_txt=False, save_conf=False, save_crop=False, show_labels=True, show_conf=True, show_boxes=True, line_width=None, format=torchscript, keras=False, optimize=False, int8=False, dynamic=False, simplify=False, opset=None, workspace=4, nms=False, lr0=0.01, lrf=0.01, momentum=0.937, weight_decay=0.0005, warmup_epochs=3.0, warmup_momentum=0.8, warmup_bias_lr=0.1, box=7.5, cls=0.5, dfl=1.5, pose=12.0, kobj=1.0, label_smoothing=0.0, nbs=64, hsv_h=0.015, hsv_s=0.7, hsv_v=0.4, degrees=10.0, translate=0.1, scale=0.5, shear=5.0, perspective=0.0, flipud=0.4, fliplr=0.4, bgr=0.0, mosaic=1.0, mixup=0.0, copy_paste=0.0, auto_augment=randaugment, erasing=0.4, crop_fraction=1.0, cfg=/home/egcarren/datasets/dataset_for_yolo_splitted/custom_hyps.yaml, tracker=botsort.yaml, save_dir=runs/detect/train\n",
      "Overriding model.yaml nc=80 with nc=1\n",
      "\n",
      "                   from  n    params  module                                       arguments                     \n",
      "  0                  -1  1       464  ultralytics.nn.modules.conv.Conv             [3, 16, 3, 2]                 \n",
      "  1                  -1  1      4672  ultralytics.nn.modules.conv.Conv             [16, 32, 3, 2]                \n",
      "  2                  -1  1      7360  ultralytics.nn.modules.block.C2f             [32, 32, 1, True]             \n",
      "  3                  -1  1     18560  ultralytics.nn.modules.conv.Conv             [32, 64, 3, 2]                \n",
      "  4                  -1  2     49664  ultralytics.nn.modules.block.C2f             [64, 64, 2, True]             \n",
      "  5                  -1  1     73984  ultralytics.nn.modules.conv.Conv             [64, 128, 3, 2]               \n",
      "  6                  -1  2    197632  ultralytics.nn.modules.block.C2f             [128, 128, 2, True]           \n",
      "  7                  -1  1    295424  ultralytics.nn.modules.conv.Conv             [128, 256, 3, 2]              \n",
      "  8                  -1  1    460288  ultralytics.nn.modules.block.C2f             [256, 256, 1, True]           \n",
      "  9                  -1  1    164608  ultralytics.nn.modules.block.SPPF            [256, 256, 5]                 \n",
      " 10                  -1  1         0  torch.nn.modules.upsampling.Upsample         [None, 2, 'nearest']          \n",
      " 11             [-1, 6]  1         0  ultralytics.nn.modules.conv.Concat           [1]                           \n",
      " 12                  -1  1    148224  ultralytics.nn.modules.block.C2f             [384, 128, 1]                 \n",
      " 13                  -1  1         0  torch.nn.modules.upsampling.Upsample         [None, 2, 'nearest']          \n",
      " 14             [-1, 4]  1         0  ultralytics.nn.modules.conv.Concat           [1]                           \n",
      " 15                  -1  1     37248  ultralytics.nn.modules.block.C2f             [192, 64, 1]                  \n",
      " 16                  -1  1     36992  ultralytics.nn.modules.conv.Conv             [64, 64, 3, 2]                \n",
      " 17            [-1, 12]  1         0  ultralytics.nn.modules.conv.Concat           [1]                           \n",
      " 18                  -1  1    123648  ultralytics.nn.modules.block.C2f             [192, 128, 1]                 \n",
      " 19                  -1  1    147712  ultralytics.nn.modules.conv.Conv             [128, 128, 3, 2]              \n",
      " 20             [-1, 9]  1         0  ultralytics.nn.modules.conv.Concat           [1]                           \n",
      " 21                  -1  1    493056  ultralytics.nn.modules.block.C2f             [384, 256, 1]                 \n",
      " 22        [15, 18, 21]  1    751507  ultralytics.nn.modules.head.Detect           [1, [64, 128, 256]]           \n",
      "Model summary: 225 layers, 3011043 parameters, 3011027 gradients, 8.2 GFLOPs\n",
      "\n",
      "Transferred 319/355 items from pretrained weights\n",
      "Freezing layer 'model.22.dfl.conv.weight'\n"
     ]
    },
    {
     "name": "stderr",
     "output_type": "stream",
     "text": [
      "\u001b[34m\u001b[1mtrain: \u001b[0mScanning /home/egcarren/datasets/dataset_for_yolo_splitted/labels/train... 651 images, 0 backgrounds, 0 corrupt: 100%|██████████| 651/651 [00:03<00:00, 176.77it/s]"
     ]
    },
    {
     "name": "stdout",
     "output_type": "stream",
     "text": [
      "\u001b[34m\u001b[1mtrain: \u001b[0mNew cache created: /home/egcarren/datasets/dataset_for_yolo_splitted/labels/train.cache\n"
     ]
    },
    {
     "name": "stderr",
     "output_type": "stream",
     "text": [
      "\n",
      "\u001b[34m\u001b[1mval: \u001b[0mScanning /home/egcarren/datasets/dataset_for_yolo_splitted/labels/valid... 186 images, 0 backgrounds, 0 corrupt: 100%|██████████| 186/186 [00:01<00:00, 177.28it/s]"
     ]
    },
    {
     "name": "stdout",
     "output_type": "stream",
     "text": [
      "\u001b[34m\u001b[1mval: \u001b[0mNew cache created: /home/egcarren/datasets/dataset_for_yolo_splitted/labels/valid.cache\n"
     ]
    },
    {
     "name": "stderr",
     "output_type": "stream",
     "text": [
      "\n"
     ]
    },
    {
     "name": "stdout",
     "output_type": "stream",
     "text": [
      "Plotting labels to runs/detect/train/labels.jpg... \n",
      "\u001b[34m\u001b[1moptimizer:\u001b[0m 'optimizer=auto' found, ignoring 'lr0=0.01' and 'momentum=0.937' and determining best 'optimizer', 'lr0' and 'momentum' automatically... \n",
      "\u001b[34m\u001b[1moptimizer:\u001b[0m AdamW(lr=0.002, momentum=0.9) with parameter groups 57 weight(decay=0.0), 64 weight(decay=0.0005), 63 bias(decay=0.0)\n",
      "Image sizes 640 train, 640 val\n",
      "Using 0 dataloader workers\n",
      "Logging results to \u001b[1mruns/detect/train\u001b[0m\n",
      "Starting training for 10 epochs...\n",
      "Closing dataloader mosaic\n",
      "\n",
      "      Epoch    GPU_mem   box_loss   cls_loss   dfl_loss  Instances       Size\n"
     ]
    },
    {
     "name": "stderr",
     "output_type": "stream",
     "text": [
      "       1/10         0G      1.658       2.28      1.592         54        640: 100%|██████████| 41/41 [05:08<00:00,  7.53s/it]\n",
      "                 Class     Images  Instances      Box(P          R      mAP50  mAP50-95): 100%|██████████| 6/6 [00:26<00:00,  4.45s/it]"
     ]
    },
    {
     "name": "stdout",
     "output_type": "stream",
     "text": [
      "                   all        186        885      0.519      0.383      0.419      0.186\n"
     ]
    },
    {
     "name": "stderr",
     "output_type": "stream",
     "text": [
      "\n"
     ]
    },
    {
     "name": "stdout",
     "output_type": "stream",
     "text": [
      "\n",
      "      Epoch    GPU_mem   box_loss   cls_loss   dfl_loss  Instances       Size\n"
     ]
    },
    {
     "name": "stderr",
     "output_type": "stream",
     "text": [
      "       2/10         0G      1.523      1.916      1.525         66        640: 100%|██████████| 41/41 [05:00<00:00,  7.32s/it]\n",
      "                 Class     Images  Instances      Box(P          R      mAP50  mAP50-95): 100%|██████████| 6/6 [00:22<00:00,  3.75s/it]"
     ]
    },
    {
     "name": "stdout",
     "output_type": "stream",
     "text": [
      "                   all        186        885      0.494      0.429      0.404      0.185\n"
     ]
    },
    {
     "name": "stderr",
     "output_type": "stream",
     "text": [
      "\n"
     ]
    },
    {
     "name": "stdout",
     "output_type": "stream",
     "text": [
      "\n",
      "      Epoch    GPU_mem   box_loss   cls_loss   dfl_loss  Instances       Size\n"
     ]
    },
    {
     "name": "stderr",
     "output_type": "stream",
     "text": [
      "       3/10         0G      1.493      1.763      1.508         55        640: 100%|██████████| 41/41 [04:18<00:00,  6.31s/it]\n",
      "                 Class     Images  Instances      Box(P          R      mAP50  mAP50-95): 100%|██████████| 6/6 [00:20<00:00,  3.49s/it]"
     ]
    },
    {
     "name": "stdout",
     "output_type": "stream",
     "text": [
      "                   all        186        885      0.473      0.585      0.473      0.234\n"
     ]
    },
    {
     "name": "stderr",
     "output_type": "stream",
     "text": [
      "\n"
     ]
    },
    {
     "name": "stdout",
     "output_type": "stream",
     "text": [
      "\n",
      "      Epoch    GPU_mem   box_loss   cls_loss   dfl_loss  Instances       Size\n"
     ]
    },
    {
     "name": "stderr",
     "output_type": "stream",
     "text": [
      "       4/10         0G      1.459      1.659      1.471         55        640: 100%|██████████| 41/41 [04:43<00:00,  6.91s/it]\n",
      "                 Class     Images  Instances      Box(P          R      mAP50  mAP50-95): 100%|██████████| 6/6 [00:21<00:00,  3.65s/it]"
     ]
    },
    {
     "name": "stdout",
     "output_type": "stream",
     "text": [
      "                   all        186        885      0.521      0.535      0.502      0.232\n"
     ]
    },
    {
     "name": "stderr",
     "output_type": "stream",
     "text": [
      "\n"
     ]
    },
    {
     "name": "stdout",
     "output_type": "stream",
     "text": [
      "\n",
      "      Epoch    GPU_mem   box_loss   cls_loss   dfl_loss  Instances       Size\n"
     ]
    },
    {
     "name": "stderr",
     "output_type": "stream",
     "text": [
      "       5/10         0G      1.442      1.506      1.472         56        640: 100%|██████████| 41/41 [05:03<00:00,  7.39s/it]\n",
      "                 Class     Images  Instances      Box(P          R      mAP50  mAP50-95): 100%|██████████| 6/6 [00:24<00:00,  4.02s/it]"
     ]
    },
    {
     "name": "stdout",
     "output_type": "stream",
     "text": [
      "                   all        186        885      0.552      0.584      0.574      0.296\n"
     ]
    },
    {
     "name": "stderr",
     "output_type": "stream",
     "text": [
      "\n"
     ]
    },
    {
     "name": "stdout",
     "output_type": "stream",
     "text": [
      "\n",
      "      Epoch    GPU_mem   box_loss   cls_loss   dfl_loss  Instances       Size\n"
     ]
    },
    {
     "name": "stderr",
     "output_type": "stream",
     "text": [
      "       6/10         0G      1.379      1.419      1.426         41        640: 100%|██████████| 41/41 [05:01<00:00,  7.35s/it]\n",
      "                 Class     Images  Instances      Box(P          R      mAP50  mAP50-95): 100%|██████████| 6/6 [00:24<00:00,  4.10s/it]"
     ]
    },
    {
     "name": "stdout",
     "output_type": "stream",
     "text": [
      "                   all        186        885      0.639      0.701       0.71      0.416\n"
     ]
    },
    {
     "name": "stderr",
     "output_type": "stream",
     "text": [
      "\n"
     ]
    },
    {
     "name": "stdout",
     "output_type": "stream",
     "text": [
      "\n",
      "      Epoch    GPU_mem   box_loss   cls_loss   dfl_loss  Instances       Size\n"
     ]
    },
    {
     "name": "stderr",
     "output_type": "stream",
     "text": [
      "       7/10         0G      1.345      1.331      1.391         63        640: 100%|██████████| 41/41 [05:02<00:00,  7.37s/it]\n",
      "                 Class     Images  Instances      Box(P          R      mAP50  mAP50-95): 100%|██████████| 6/6 [00:25<00:00,  4.18s/it]"
     ]
    },
    {
     "name": "stdout",
     "output_type": "stream",
     "text": [
      "                   all        186        885      0.733      0.692      0.751      0.422\n"
     ]
    },
    {
     "name": "stderr",
     "output_type": "stream",
     "text": [
      "\n"
     ]
    },
    {
     "name": "stdout",
     "output_type": "stream",
     "text": [
      "\n",
      "      Epoch    GPU_mem   box_loss   cls_loss   dfl_loss  Instances       Size\n"
     ]
    },
    {
     "name": "stderr",
     "output_type": "stream",
     "text": [
      "       8/10         0G      1.292      1.244      1.367         73        640: 100%|██████████| 41/41 [31:28<00:00, 46.06s/it]  \n",
      "                 Class     Images  Instances      Box(P          R      mAP50  mAP50-95): 100%|██████████| 6/6 [00:24<00:00,  4.09s/it]"
     ]
    },
    {
     "name": "stdout",
     "output_type": "stream",
     "text": [
      "                   all        186        885       0.71      0.769      0.785       0.46\n"
     ]
    },
    {
     "name": "stderr",
     "output_type": "stream",
     "text": [
      "\n"
     ]
    },
    {
     "name": "stdout",
     "output_type": "stream",
     "text": [
      "\n",
      "      Epoch    GPU_mem   box_loss   cls_loss   dfl_loss  Instances       Size\n"
     ]
    },
    {
     "name": "stderr",
     "output_type": "stream",
     "text": [
      "       9/10         0G      1.245       1.15       1.32         51        640: 100%|██████████| 41/41 [05:06<00:00,  7.47s/it]\n",
      "                 Class     Images  Instances      Box(P          R      mAP50  mAP50-95): 100%|██████████| 6/6 [00:24<00:00,  4.08s/it]"
     ]
    },
    {
     "name": "stdout",
     "output_type": "stream",
     "text": [
      "                   all        186        885      0.775      0.785      0.834      0.503\n"
     ]
    },
    {
     "name": "stderr",
     "output_type": "stream",
     "text": [
      "\n"
     ]
    },
    {
     "name": "stdout",
     "output_type": "stream",
     "text": [
      "\n",
      "      Epoch    GPU_mem   box_loss   cls_loss   dfl_loss  Instances       Size\n"
     ]
    },
    {
     "name": "stderr",
     "output_type": "stream",
     "text": [
      "      10/10         0G      1.206      1.095      1.306         52        640: 100%|██████████| 41/41 [05:03<00:00,  7.40s/it]\n",
      "                 Class     Images  Instances      Box(P          R      mAP50  mAP50-95): 100%|██████████| 6/6 [00:24<00:00,  4.05s/it]"
     ]
    },
    {
     "name": "stdout",
     "output_type": "stream",
     "text": [
      "                   all        186        885      0.789      0.794      0.838      0.516\n"
     ]
    },
    {
     "name": "stderr",
     "output_type": "stream",
     "text": [
      "\n"
     ]
    },
    {
     "name": "stdout",
     "output_type": "stream",
     "text": [
      "\n",
      "10 epochs completed in 1.333 hours.\n",
      "Optimizer stripped from runs/detect/train/weights/last.pt, 6.2MB\n",
      "Optimizer stripped from runs/detect/train/weights/best.pt, 6.2MB\n",
      "\n",
      "Validating runs/detect/train/weights/best.pt...\n",
      "Ultralytics YOLOv8.2.21 🚀 Python-3.10.14 torch-2.3.0+cu118 CPU (Intel Core(TM) i7-10750H 2.60GHz)\n",
      "Model summary (fused): 168 layers, 3005843 parameters, 0 gradients, 8.1 GFLOPs\n"
     ]
    },
    {
     "name": "stderr",
     "output_type": "stream",
     "text": [
      "                 Class     Images  Instances      Box(P          R      mAP50  mAP50-95): 100%|██████████| 6/6 [00:21<00:00,  3.50s/it]\n"
     ]
    },
    {
     "name": "stdout",
     "output_type": "stream",
     "text": [
      "                   all        186        885      0.791      0.792      0.838      0.516\n",
      "Speed: 1.7ms preprocess, 63.7ms inference, 0.0ms loss, 1.0ms postprocess per image\n",
      "Results saved to \u001b[1mruns/detect/train\u001b[0m\n"
     ]
    }
   ],
   "source": [
    "# Train the model using the 'coco8.yaml' dataset for 3 epochs\n",
    "\n",
    "yaml_file = os.path.join(root_path, \"dataset_products.yaml\")\n",
    "config_file = os.path.join(root_path, \"custom_hyps.yaml\")\n",
    "\n",
    "results = model.train(data=yaml_file, \n",
    "                      cfg=config_file,\n",
    "                      epochs=10,\n",
    "                      device='cpu',\n",
    "                      exist_ok=True,\n",
    "                      dropout= 0.3)"
   ]
  },
  {
   "cell_type": "markdown",
   "metadata": {},
   "source": [
    "### Inference in one sample"
   ]
  },
  {
   "cell_type": "code",
   "execution_count": 12,
   "metadata": {},
   "outputs": [],
   "source": [
    "path_best_weights= \"/home/egcarren/Downloads/metralabs/metralabs_python/EDWIN_WS/YOLOV8_test/runs/detect/train/weights/best.pt\"\n",
    "model = YOLO(path_best_weights)"
   ]
  },
  {
   "cell_type": "code",
   "execution_count": 13,
   "metadata": {},
   "outputs": [
    {
     "name": "stdout",
     "output_type": "stream",
     "text": [
      "\n",
      "image 1/93 /home/egcarren/Downloads/metralabs/metralabs_python/EDWIN_WS/datasets/dataset_for_yolo_splitted/images/test/asiqa.PNG: 384x640 5 Productos, 60.7ms\n",
      "image 2/93 /home/egcarren/Downloads/metralabs/metralabs_python/EDWIN_WS/datasets/dataset_for_yolo_splitted/images/test/ayeqy.PNG: 384x640 12 Productos, 56.8ms\n",
      "image 3/93 /home/egcarren/Downloads/metralabs/metralabs_python/EDWIN_WS/datasets/dataset_for_yolo_splitted/images/test/bhogm.PNG: 384x640 3 Productos, 58.1ms\n",
      "image 4/93 /home/egcarren/Downloads/metralabs/metralabs_python/EDWIN_WS/datasets/dataset_for_yolo_splitted/images/test/bwsyy.PNG: 384x640 4 Productos, 55.6ms\n",
      "image 5/93 /home/egcarren/Downloads/metralabs/metralabs_python/EDWIN_WS/datasets/dataset_for_yolo_splitted/images/test/bzxwo.PNG: 384x640 12 Productos, 58.2ms\n",
      "image 6/93 /home/egcarren/Downloads/metralabs/metralabs_python/EDWIN_WS/datasets/dataset_for_yolo_splitted/images/test/ciwgp.PNG: 384x640 13 Productos, 56.4ms\n",
      "image 7/93 /home/egcarren/Downloads/metralabs/metralabs_python/EDWIN_WS/datasets/dataset_for_yolo_splitted/images/test/cvysw.PNG: 384x640 8 Productos, 57.2ms\n",
      "image 8/93 /home/egcarren/Downloads/metralabs/metralabs_python/EDWIN_WS/datasets/dataset_for_yolo_splitted/images/test/cxrmt.PNG: 384x640 14 Productos, 55.3ms\n",
      "image 9/93 /home/egcarren/Downloads/metralabs/metralabs_python/EDWIN_WS/datasets/dataset_for_yolo_splitted/images/test/dcllf.PNG: 384x640 11 Productos, 55.2ms\n",
      "image 10/93 /home/egcarren/Downloads/metralabs/metralabs_python/EDWIN_WS/datasets/dataset_for_yolo_splitted/images/test/ejpsz.PNG: 384x640 8 Productos, 58.0ms\n",
      "image 11/93 /home/egcarren/Downloads/metralabs/metralabs_python/EDWIN_WS/datasets/dataset_for_yolo_splitted/images/test/enhko.PNG: 384x640 21 Productos, 55.2ms\n",
      "image 12/93 /home/egcarren/Downloads/metralabs/metralabs_python/EDWIN_WS/datasets/dataset_for_yolo_splitted/images/test/eswcg.PNG: 384x640 3 Productos, 59.3ms\n",
      "image 13/93 /home/egcarren/Downloads/metralabs/metralabs_python/EDWIN_WS/datasets/dataset_for_yolo_splitted/images/test/evygq.PNG: 384x640 1 Producto, 58.7ms\n",
      "image 14/93 /home/egcarren/Downloads/metralabs/metralabs_python/EDWIN_WS/datasets/dataset_for_yolo_splitted/images/test/ffppc.PNG: 384x640 8 Productos, 53.3ms\n",
      "image 15/93 /home/egcarren/Downloads/metralabs/metralabs_python/EDWIN_WS/datasets/dataset_for_yolo_splitted/images/test/fjjqn.PNG: 384x640 6 Productos, 53.6ms\n",
      "image 16/93 /home/egcarren/Downloads/metralabs/metralabs_python/EDWIN_WS/datasets/dataset_for_yolo_splitted/images/test/fnzyy.PNG: 384x640 6 Productos, 52.3ms\n",
      "image 17/93 /home/egcarren/Downloads/metralabs/metralabs_python/EDWIN_WS/datasets/dataset_for_yolo_splitted/images/test/gcapc.PNG: 384x640 6 Productos, 59.7ms\n",
      "image 18/93 /home/egcarren/Downloads/metralabs/metralabs_python/EDWIN_WS/datasets/dataset_for_yolo_splitted/images/test/gzdgs.PNG: 384x640 3 Productos, 52.2ms\n",
      "image 19/93 /home/egcarren/Downloads/metralabs/metralabs_python/EDWIN_WS/datasets/dataset_for_yolo_splitted/images/test/heuvw.PNG: 384x640 9 Productos, 48.5ms\n",
      "image 20/93 /home/egcarren/Downloads/metralabs/metralabs_python/EDWIN_WS/datasets/dataset_for_yolo_splitted/images/test/holiv.PNG: 384x640 7 Productos, 49.3ms\n",
      "image 21/93 /home/egcarren/Downloads/metralabs/metralabs_python/EDWIN_WS/datasets/dataset_for_yolo_splitted/images/test/hyffo.PNG: 384x640 5 Productos, 49.6ms\n",
      "image 22/93 /home/egcarren/Downloads/metralabs/metralabs_python/EDWIN_WS/datasets/dataset_for_yolo_splitted/images/test/iehvx.PNG: 384x640 11 Productos, 49.8ms\n",
      "image 23/93 /home/egcarren/Downloads/metralabs/metralabs_python/EDWIN_WS/datasets/dataset_for_yolo_splitted/images/test/ikkrj.PNG: 384x640 14 Productos, 59.0ms\n",
      "image 24/93 /home/egcarren/Downloads/metralabs/metralabs_python/EDWIN_WS/datasets/dataset_for_yolo_splitted/images/test/jnvzo.PNG: 384x640 13 Productos, 58.2ms\n",
      "image 25/93 /home/egcarren/Downloads/metralabs/metralabs_python/EDWIN_WS/datasets/dataset_for_yolo_splitted/images/test/jocip.PNG: 384x640 5 Productos, 57.4ms\n",
      "image 26/93 /home/egcarren/Downloads/metralabs/metralabs_python/EDWIN_WS/datasets/dataset_for_yolo_splitted/images/test/jrfeo.PNG: 384x640 1 Producto, 69.6ms\n",
      "image 27/93 /home/egcarren/Downloads/metralabs/metralabs_python/EDWIN_WS/datasets/dataset_for_yolo_splitted/images/test/kisab.PNG: 384x640 3 Productos, 57.9ms\n",
      "image 28/93 /home/egcarren/Downloads/metralabs/metralabs_python/EDWIN_WS/datasets/dataset_for_yolo_splitted/images/test/lakwg.PNG: 384x640 6 Productos, 51.1ms\n",
      "image 29/93 /home/egcarren/Downloads/metralabs/metralabs_python/EDWIN_WS/datasets/dataset_for_yolo_splitted/images/test/ldnel.PNG: 384x640 2 Productos, 50.6ms\n",
      "image 30/93 /home/egcarren/Downloads/metralabs/metralabs_python/EDWIN_WS/datasets/dataset_for_yolo_splitted/images/test/lfmec.PNG: 384x640 4 Productos, 49.7ms\n",
      "image 31/93 /home/egcarren/Downloads/metralabs/metralabs_python/EDWIN_WS/datasets/dataset_for_yolo_splitted/images/test/lfwij.PNG: 384x640 12 Productos, 51.4ms\n",
      "image 32/93 /home/egcarren/Downloads/metralabs/metralabs_python/EDWIN_WS/datasets/dataset_for_yolo_splitted/images/test/lkmuo.PNG: 384x640 8 Productos, 56.9ms\n",
      "image 33/93 /home/egcarren/Downloads/metralabs/metralabs_python/EDWIN_WS/datasets/dataset_for_yolo_splitted/images/test/lvsth.PNG: 384x640 6 Productos, 55.2ms\n",
      "image 34/93 /home/egcarren/Downloads/metralabs/metralabs_python/EDWIN_WS/datasets/dataset_for_yolo_splitted/images/test/lywdh.PNG: 384x640 4 Productos, 58.1ms\n",
      "image 35/93 /home/egcarren/Downloads/metralabs/metralabs_python/EDWIN_WS/datasets/dataset_for_yolo_splitted/images/test/mjezv.PNG: 384x640 15 Productos, 57.4ms\n",
      "image 36/93 /home/egcarren/Downloads/metralabs/metralabs_python/EDWIN_WS/datasets/dataset_for_yolo_splitted/images/test/mqngi.PNG: 384x640 16 Productos, 55.2ms\n",
      "image 37/93 /home/egcarren/Downloads/metralabs/metralabs_python/EDWIN_WS/datasets/dataset_for_yolo_splitted/images/test/naygf.PNG: 384x640 5 Productos, 55.2ms\n",
      "image 38/93 /home/egcarren/Downloads/metralabs/metralabs_python/EDWIN_WS/datasets/dataset_for_yolo_splitted/images/test/nbrmn.PNG: 384x640 5 Productos, 66.3ms\n",
      "image 39/93 /home/egcarren/Downloads/metralabs/metralabs_python/EDWIN_WS/datasets/dataset_for_yolo_splitted/images/test/ngmcb.PNG: 384x640 6 Productos, 56.9ms\n",
      "image 40/93 /home/egcarren/Downloads/metralabs/metralabs_python/EDWIN_WS/datasets/dataset_for_yolo_splitted/images/test/nopxi.PNG: 384x640 3 Productos, 55.0ms\n",
      "image 41/93 /home/egcarren/Downloads/metralabs/metralabs_python/EDWIN_WS/datasets/dataset_for_yolo_splitted/images/test/nshit.PNG: 384x640 17 Productos, 58.8ms\n",
      "image 42/93 /home/egcarren/Downloads/metralabs/metralabs_python/EDWIN_WS/datasets/dataset_for_yolo_splitted/images/test/odshy.PNG: 384x640 3 Productos, 55.6ms\n",
      "image 43/93 /home/egcarren/Downloads/metralabs/metralabs_python/EDWIN_WS/datasets/dataset_for_yolo_splitted/images/test/ogkle.PNG: 384x640 5 Productos, 57.0ms\n",
      "image 44/93 /home/egcarren/Downloads/metralabs/metralabs_python/EDWIN_WS/datasets/dataset_for_yolo_splitted/images/test/okwvo.PNG: 384x640 9 Productos, 56.1ms\n",
      "image 45/93 /home/egcarren/Downloads/metralabs/metralabs_python/EDWIN_WS/datasets/dataset_for_yolo_splitted/images/test/oumyd.PNG: 384x640 1 Producto, 54.4ms\n",
      "image 46/93 /home/egcarren/Downloads/metralabs/metralabs_python/EDWIN_WS/datasets/dataset_for_yolo_splitted/images/test/pheej.PNG: 384x640 6 Productos, 60.3ms\n",
      "image 47/93 /home/egcarren/Downloads/metralabs/metralabs_python/EDWIN_WS/datasets/dataset_for_yolo_splitted/images/test/pjdry.PNG: 384x640 9 Productos, 55.9ms\n",
      "image 48/93 /home/egcarren/Downloads/metralabs/metralabs_python/EDWIN_WS/datasets/dataset_for_yolo_splitted/images/test/pqiom.PNG: 384x640 16 Productos, 56.5ms\n",
      "image 49/93 /home/egcarren/Downloads/metralabs/metralabs_python/EDWIN_WS/datasets/dataset_for_yolo_splitted/images/test/ptmmc.PNG: 384x640 19 Productos, 56.0ms\n",
      "image 50/93 /home/egcarren/Downloads/metralabs/metralabs_python/EDWIN_WS/datasets/dataset_for_yolo_splitted/images/test/qhved.PNG: 384x640 9 Productos, 58.6ms\n",
      "image 51/93 /home/egcarren/Downloads/metralabs/metralabs_python/EDWIN_WS/datasets/dataset_for_yolo_splitted/images/test/qnzsx.PNG: 384x640 2 Productos, 55.5ms\n",
      "image 52/93 /home/egcarren/Downloads/metralabs/metralabs_python/EDWIN_WS/datasets/dataset_for_yolo_splitted/images/test/qqadh.PNG: 384x640 18 Productos, 55.5ms\n",
      "image 53/93 /home/egcarren/Downloads/metralabs/metralabs_python/EDWIN_WS/datasets/dataset_for_yolo_splitted/images/test/qrhpt.PNG: 384x640 7 Productos, 55.6ms\n",
      "image 54/93 /home/egcarren/Downloads/metralabs/metralabs_python/EDWIN_WS/datasets/dataset_for_yolo_splitted/images/test/rbptz.PNG: 384x640 4 Productos, 55.4ms\n",
      "image 55/93 /home/egcarren/Downloads/metralabs/metralabs_python/EDWIN_WS/datasets/dataset_for_yolo_splitted/images/test/remkm.PNG: 384x640 8 Productos, 57.5ms\n",
      "image 56/93 /home/egcarren/Downloads/metralabs/metralabs_python/EDWIN_WS/datasets/dataset_for_yolo_splitted/images/test/rqoqe.PNG: 384x640 7 Productos, 55.3ms\n",
      "image 57/93 /home/egcarren/Downloads/metralabs/metralabs_python/EDWIN_WS/datasets/dataset_for_yolo_splitted/images/test/rwhgc.PNG: 384x640 6 Productos, 56.9ms\n",
      "image 58/93 /home/egcarren/Downloads/metralabs/metralabs_python/EDWIN_WS/datasets/dataset_for_yolo_splitted/images/test/ryiem.PNG: 384x640 17 Productos, 64.2ms\n",
      "image 59/93 /home/egcarren/Downloads/metralabs/metralabs_python/EDWIN_WS/datasets/dataset_for_yolo_splitted/images/test/rysew.PNG: 384x640 1 Producto, 59.8ms\n",
      "image 60/93 /home/egcarren/Downloads/metralabs/metralabs_python/EDWIN_WS/datasets/dataset_for_yolo_splitted/images/test/sdgng.PNG: 384x640 2 Productos, 55.9ms\n",
      "image 61/93 /home/egcarren/Downloads/metralabs/metralabs_python/EDWIN_WS/datasets/dataset_for_yolo_splitted/images/test/sdwgk.PNG: 384x640 8 Productos, 57.6ms\n",
      "image 62/93 /home/egcarren/Downloads/metralabs/metralabs_python/EDWIN_WS/datasets/dataset_for_yolo_splitted/images/test/sfrxa.PNG: 384x640 7 Productos, 57.4ms\n",
      "image 63/93 /home/egcarren/Downloads/metralabs/metralabs_python/EDWIN_WS/datasets/dataset_for_yolo_splitted/images/test/sfvlu.PNG: 384x640 3 Productos, 56.3ms\n",
      "image 64/93 /home/egcarren/Downloads/metralabs/metralabs_python/EDWIN_WS/datasets/dataset_for_yolo_splitted/images/test/srnyr.PNG: 384x640 2 Productos, 57.0ms\n",
      "image 65/93 /home/egcarren/Downloads/metralabs/metralabs_python/EDWIN_WS/datasets/dataset_for_yolo_splitted/images/test/ssacr.PNG: 384x640 2 Productos, 58.8ms\n",
      "image 66/93 /home/egcarren/Downloads/metralabs/metralabs_python/EDWIN_WS/datasets/dataset_for_yolo_splitted/images/test/tmvpx.PNG: 384x640 1 Producto, 59.3ms\n",
      "image 67/93 /home/egcarren/Downloads/metralabs/metralabs_python/EDWIN_WS/datasets/dataset_for_yolo_splitted/images/test/tnxvh.PNG: 384x640 16 Productos, 55.6ms\n",
      "image 68/93 /home/egcarren/Downloads/metralabs/metralabs_python/EDWIN_WS/datasets/dataset_for_yolo_splitted/images/test/tszrt.PNG: 384x640 9 Productos, 59.0ms\n",
      "image 69/93 /home/egcarren/Downloads/metralabs/metralabs_python/EDWIN_WS/datasets/dataset_for_yolo_splitted/images/test/ugvwj.PNG: 384x640 7 Productos, 60.7ms\n",
      "image 70/93 /home/egcarren/Downloads/metralabs/metralabs_python/EDWIN_WS/datasets/dataset_for_yolo_splitted/images/test/ugyug.PNG: 384x640 7 Productos, 58.2ms\n",
      "image 71/93 /home/egcarren/Downloads/metralabs/metralabs_python/EDWIN_WS/datasets/dataset_for_yolo_splitted/images/test/uqywa.PNG: 384x640 1 Producto, 58.2ms\n",
      "image 72/93 /home/egcarren/Downloads/metralabs/metralabs_python/EDWIN_WS/datasets/dataset_for_yolo_splitted/images/test/uuuui.PNG: 384x640 1 Producto, 60.6ms\n",
      "image 73/93 /home/egcarren/Downloads/metralabs/metralabs_python/EDWIN_WS/datasets/dataset_for_yolo_splitted/images/test/vihxm.PNG: 384x640 4 Productos, 56.6ms\n",
      "image 74/93 /home/egcarren/Downloads/metralabs/metralabs_python/EDWIN_WS/datasets/dataset_for_yolo_splitted/images/test/vuply.PNG: 384x640 (no detections), 57.4ms\n",
      "image 75/93 /home/egcarren/Downloads/metralabs/metralabs_python/EDWIN_WS/datasets/dataset_for_yolo_splitted/images/test/vvjok.PNG: 384x640 5 Productos, 56.6ms\n",
      "image 76/93 /home/egcarren/Downloads/metralabs/metralabs_python/EDWIN_WS/datasets/dataset_for_yolo_splitted/images/test/vwrid.PNG: 384x640 3 Productos, 58.7ms\n",
      "image 77/93 /home/egcarren/Downloads/metralabs/metralabs_python/EDWIN_WS/datasets/dataset_for_yolo_splitted/images/test/wblmg.PNG: 384x640 19 Productos, 57.3ms\n",
      "image 78/93 /home/egcarren/Downloads/metralabs/metralabs_python/EDWIN_WS/datasets/dataset_for_yolo_splitted/images/test/xdvne.PNG: 384x640 18 Productos, 64.7ms\n",
      "image 79/93 /home/egcarren/Downloads/metralabs/metralabs_python/EDWIN_WS/datasets/dataset_for_yolo_splitted/images/test/xeuoj.PNG: 384x640 4 Productos, 57.3ms\n",
      "image 80/93 /home/egcarren/Downloads/metralabs/metralabs_python/EDWIN_WS/datasets/dataset_for_yolo_splitted/images/test/xynbc.PNG: 384x640 2 Productos, 50.2ms\n",
      "image 81/93 /home/egcarren/Downloads/metralabs/metralabs_python/EDWIN_WS/datasets/dataset_for_yolo_splitted/images/test/xzmcq.PNG: 384x640 6 Productos, 46.7ms\n",
      "image 82/93 /home/egcarren/Downloads/metralabs/metralabs_python/EDWIN_WS/datasets/dataset_for_yolo_splitted/images/test/yciky.PNG: 384x640 8 Productos, 46.8ms\n",
      "image 83/93 /home/egcarren/Downloads/metralabs/metralabs_python/EDWIN_WS/datasets/dataset_for_yolo_splitted/images/test/ydfwr.PNG: 384x640 6 Productos, 58.6ms\n",
      "image 84/93 /home/egcarren/Downloads/metralabs/metralabs_python/EDWIN_WS/datasets/dataset_for_yolo_splitted/images/test/yogwz.PNG: 384x640 3 Productos, 55.4ms\n",
      "image 85/93 /home/egcarren/Downloads/metralabs/metralabs_python/EDWIN_WS/datasets/dataset_for_yolo_splitted/images/test/yrqff.PNG: 384x640 2 Productos, 66.4ms\n",
      "image 86/93 /home/egcarren/Downloads/metralabs/metralabs_python/EDWIN_WS/datasets/dataset_for_yolo_splitted/images/test/yuqvg.PNG: 384x640 2 Productos, 55.4ms\n",
      "image 87/93 /home/egcarren/Downloads/metralabs/metralabs_python/EDWIN_WS/datasets/dataset_for_yolo_splitted/images/test/zfpxv.PNG: 384x640 6 Productos, 55.6ms\n",
      "image 88/93 /home/egcarren/Downloads/metralabs/metralabs_python/EDWIN_WS/datasets/dataset_for_yolo_splitted/images/test/zhukk.PNG: 384x640 13 Productos, 58.4ms\n",
      "image 89/93 /home/egcarren/Downloads/metralabs/metralabs_python/EDWIN_WS/datasets/dataset_for_yolo_splitted/images/test/znrrz.PNG: 384x640 6 Productos, 55.6ms\n",
      "image 90/93 /home/egcarren/Downloads/metralabs/metralabs_python/EDWIN_WS/datasets/dataset_for_yolo_splitted/images/test/zpcnu.PNG: 384x640 19 Productos, 58.5ms\n",
      "image 91/93 /home/egcarren/Downloads/metralabs/metralabs_python/EDWIN_WS/datasets/dataset_for_yolo_splitted/images/test/ztpzk.PNG: 384x640 6 Productos, 56.1ms\n",
      "image 92/93 /home/egcarren/Downloads/metralabs/metralabs_python/EDWIN_WS/datasets/dataset_for_yolo_splitted/images/test/zwlzq.PNG: 384x640 20 Productos, 57.2ms\n",
      "image 93/93 /home/egcarren/Downloads/metralabs/metralabs_python/EDWIN_WS/datasets/dataset_for_yolo_splitted/images/test/zxfxy.PNG: 384x640 1 Producto, 58.0ms\n",
      "Speed: 3.1ms preprocess, 56.6ms inference, 0.9ms postprocess per image at shape (1, 3, 384, 640)\n"
     ]
    }
   ],
   "source": [
    "# Perform object detection on an image using the model\n",
    "#test_path = \"/home/egcarren/Downloads/metralabs/test2\"\n",
    "test_path = \"/home/egcarren/Downloads/metralabs/metralabs_python/EDWIN_WS/datasets/dataset_for_yolo_splitted/images/test\"\n",
    "results = model(test_path)"
   ]
  },
  {
   "cell_type": "code",
   "execution_count": 14,
   "metadata": {},
   "outputs": [
    {
     "name": "stderr",
     "output_type": "stream",
     "text": [
      "\n",
      "(eog:105976): EOG-CRITICAL **: 23:35:45.519: eog_list_store_get_pos_by_image: assertion 'EOG_IS_IMAGE (image)' failed\n",
      "\n",
      "(eog:105976): EOG-CRITICAL **: 23:35:49.628: eog_list_store_get_pos_by_image: assertion 'EOG_IS_IMAGE (image)' failed\n",
      "\n",
      "(eog:105976): EOG-CRITICAL **: 23:35:52.521: eog_list_store_get_pos_by_image: assertion 'EOG_IS_IMAGE (image)' failed\n",
      "\n",
      "(eog:105976): EOG-CRITICAL **: 23:35:55.220: eog_list_store_get_pos_by_image: assertion 'EOG_IS_IMAGE (image)' failed\n",
      "\n",
      "(eog:105976): EOG-CRITICAL **: 23:35:56.006: eog_list_store_get_pos_by_image: assertion 'EOG_IS_IMAGE (image)' failed\n",
      "\n",
      "(eog:105976): EOG-CRITICAL **: 23:35:59.152: eog_list_store_get_pos_by_image: assertion 'EOG_IS_IMAGE (image)' failed\n",
      "\n",
      "(eog:105976): EOG-CRITICAL **: 23:36:06.981: eog_list_store_get_pos_by_image: assertion 'EOG_IS_IMAGE (image)' failed\n",
      "\n",
      "(eog:105976): EOG-CRITICAL **: 23:36:10.088: eog_list_store_get_pos_by_image: assertion 'EOG_IS_IMAGE (image)' failed\n",
      "\n",
      "(eog:105976): EOG-CRITICAL **: 23:36:27.991: eog_list_store_get_pos_by_image: assertion 'EOG_IS_IMAGE (image)' failed\n",
      "\n",
      "(eog:105976): EOG-CRITICAL **: 23:36:41.511: eog_list_store_get_pos_by_image: assertion 'EOG_IS_IMAGE (image)' failed\n",
      "\n",
      "(eog:105976): EOG-CRITICAL **: 23:36:47.526: eog_list_store_get_pos_by_image: assertion 'EOG_IS_IMAGE (image)' failed\n"
     ]
    }
   ],
   "source": [
    "for result in results:\n",
    "    boxes = result.boxes  # Boxes object for bounding box outputs\n",
    "    masks = result.masks  # Masks object for segmentation masks outputs\n",
    "    keypoints = result.keypoints  # Keypoints object for pose outputs\n",
    "    probs = result.probs  # Probs object for classification outputs\n",
    "    obb = result.obb  # Oriented boxes object for OBB outputs\n",
    "    result.show()  # display to screen\n",
    "    result.save()  # save to disk"
   ]
  }
 ],
 "metadata": {
  "kernelspec": {
   "display_name": "hack2024",
   "language": "python",
   "name": "python3"
  },
  "language_info": {
   "codemirror_mode": {
    "name": "ipython",
    "version": 3
   },
   "file_extension": ".py",
   "mimetype": "text/x-python",
   "name": "python",
   "nbconvert_exporter": "python",
   "pygments_lexer": "ipython3",
   "version": "3.10.14"
  }
 },
 "nbformat": 4,
 "nbformat_minor": 2
}
