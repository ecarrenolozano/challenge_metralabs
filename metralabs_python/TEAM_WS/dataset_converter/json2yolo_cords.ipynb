{
 "cells": [
  {
   "cell_type": "markdown",
   "metadata": {},
   "source": [
    "# Stage: **Preprocessing**\n",
    "## Function: JSON Coordinates to YOLO Coordinates"
   ]
  },
  {
   "cell_type": "markdown",
   "metadata": {},
   "source": [
    "### Import libraries"
   ]
  },
  {
   "cell_type": "code",
   "execution_count": 7,
   "metadata": {},
   "outputs": [],
   "source": [
    "import os \n",
    "import json\n",
    "import glob\n",
    "import cv2\n",
    "\n",
    "from tqdm.notebook import trange, tqdm"
   ]
  },
  {
   "cell_type": "markdown",
   "metadata": {},
   "source": [
    "### Utility Functions"
   ]
  },
  {
   "cell_type": "code",
   "execution_count": 8,
   "metadata": {},
   "outputs": [],
   "source": [
    "def extract_json_paths(root_path):\n",
    "    \"\"\"\n",
    "    Description: Generates a list of lists that contains the different paths to all '*_label.json' files in the dataset path.\n",
    "\n",
    "    Arguments\n",
    "        root_path: dataset root\n",
    "\n",
    "    Return\n",
    "        json_files_list: List of list with paths.\n",
    "    \"\"\"\n",
    "\n",
    "    json_files_list=[]\n",
    "    for subfolder in os.listdir(root_path):\n",
    "        rgb_folder = os.path.join(root_path, subfolder, 'ColorImage')\n",
    "        #print(\"RGB FOLDER: {}\".format(rgb_folder))\n",
    "\n",
    "        if len(os.listdir(rgb_folder)) != 0:\n",
    "            # List of json_files per RGB_FOLDER\n",
    "            json_files = glob.glob(os.path.join(os.path.join(rgb_folder, '*_label.json')))\n",
    "            #print(json_files)\n",
    "            json_files_list.append(json_files)\n",
    "    \n",
    "    return json_files_list"
   ]
  },
  {
   "cell_type": "code",
   "execution_count": 9,
   "metadata": {},
   "outputs": [],
   "source": [
    "def json_txt_bboxes(json_label_file):\n",
    "    \"\"\"\n",
    "    Description: Converts bounding boxes from [xmin, ymin, xmax, ymax] to normalized YOLO [class, xcenter, ycenter, widthbox, heightbox]\n",
    "\n",
    "    Arguments\n",
    "        json_label_file: json file with bounding boxes coordinates in [xmin, ymin, xmax, ymax] \n",
    "\n",
    "    Return\n",
    "        json_files_list: List of list with paths.\n",
    "    \"\"\"\n",
    "    #print(\"JSON LABEL FILE: {}\".format(json_label_file))\n",
    "    # Extract path and filename from json_label_file\n",
    "    dirname, filename = os.path.split(json_label_file)\n",
    "    \n",
    "    # New filename in .txt for YOLO\n",
    "    new_filename = (filename.split('.')[0]).split(\"_label\")[0] + \".txt\"\n",
    "    #print(new_filename)\n",
    "\n",
    "    # Read JSON file\n",
    "    with open(json_label_file) as json_file:\n",
    "        data = json.load(json_file)\n",
    "\n",
    "    # Extract data coordinate from each box present in each label file\n",
    "    boxes_list = data['boxes']\n",
    "\n",
    "    # Calculation of new coordinate in YOLO Format (normalized between 0 and 1)\n",
    "    image_filename = json_label_file.split(\".\")[0].split(\"_label\")[0] + \".PNG\"\n",
    "    #print(\"Image path: {}\".format(image_filename))\n",
    "\n",
    "    # Load image\n",
    "    img = cv2.imread(image_filename)\n",
    "\n",
    "    # Extract image size\n",
    "    H_image, W_image, _ = img.shape\n",
    "\n",
    "    for i, box in enumerate(boxes_list):\n",
    "\n",
    "        #print(box)\n",
    "        x_min = int(box[0])\n",
    "        y_min = int(box[1])\n",
    "        x_max = int(box[2])\n",
    "        y_max = int(box[3])\n",
    "        \n",
    "        #print(\"\\tCoordinates: xmin={}, ymin={}, xmax={}, ymax={}\".format(x_min, y_min, x_max, y_max))\n",
    "        \n",
    "        #print(\"\\tIMAGE SHAPE: {}\".format(img.shape))\n",
    "        x_center = round(((x_max+x_min)/2)/W_image, 4)\n",
    "        y_center = round(((y_max+y_min)/2)/H_image, 4)\n",
    "        wb = round((x_max - x_min)/W_image, 4)\n",
    "        hb = round((y_max - y_min)/H_image, 4)\n",
    "\n",
    "        class_object = \"0\"\n",
    "\n",
    "        new_coordinates = [str(class_object), str(x_center), str(y_center), str(wb), str(hb)]\n",
    "        new_coordinates = \" \".join(new_coordinates)\n",
    "        \n",
    "        #print(\"\\tNew Coordinates: {}\".format(new_coordinates))\n",
    "\n",
    "        with open(os.path.join(dirname, new_filename), 'a') as f:\n",
    "            f.write(new_coordinates + '\\n')        \n",
    "\n",
    "    return None"
   ]
  },
  {
   "cell_type": "code",
   "execution_count": null,
   "metadata": {},
   "outputs": [],
   "source": []
  },
  {
   "cell_type": "markdown",
   "metadata": {},
   "source": [
    "## Invoke converter"
   ]
  },
  {
   "cell_type": "markdown",
   "metadata": {},
   "source": [
    "### Paths for Datasets"
   ]
  },
  {
   "cell_type": "code",
   "execution_count": 10,
   "metadata": {},
   "outputs": [
    {
     "name": "stdout",
     "output_type": "stream",
     "text": [
      "Root dataset: \n",
      "\t/home/egcarren/datasets/datasets_1_2/dataset_3\n",
      "Root exist? : True\n"
     ]
    }
   ],
   "source": [
    "base_path = \"/home/egcarren/datasets\"\n",
    "datasets_main_folder = \"datasets_1_2\"\n",
    "dataset = \"dataset_3\"\n",
    "\n",
    "root_path = os.path.join(base_path, datasets_main_folder, dataset)\n",
    "print(\"Root dataset: \\n\\t{}\".format(root_path))\n",
    "print(\"Root exist? : {}\".format(os.path.isdir(root_path)))"
   ]
  },
  {
   "cell_type": "markdown",
   "metadata": {},
   "source": [
    "### Paths for Datasets"
   ]
  },
  {
   "cell_type": "code",
   "execution_count": 11,
   "metadata": {},
   "outputs": [
    {
     "name": "stdout",
     "output_type": "stream",
     "text": [
      "Converting...\n"
     ]
    },
    {
     "data": {
      "application/vnd.jupyter.widget-view+json": {
       "model_id": "1ef27598df3c4d9fb9cec48a0d6d62c1",
       "version_major": 2,
       "version_minor": 0
      },
      "text/plain": [
       "  0%|          | 0/940 [00:00<?, ?it/s]"
      ]
     },
     "metadata": {},
     "output_type": "display_data"
    },
    {
     "name": "stdout",
     "output_type": "stream",
     "text": [
      "End of conversion!\n"
     ]
    }
   ],
   "source": [
    "files_per_folder=extract_json_paths(root_path)\n",
    "\n",
    "print(\"Converting...\")\n",
    "for list_json_files in files_per_folder:\n",
    "    for json_file in tqdm(list_json_files):\n",
    "        #print(json_file)\n",
    "        json_txt_bboxes(json_file)\n",
    "\n",
    "print(\"End of conversion!\")"
   ]
  }
 ],
 "metadata": {
  "kernelspec": {
   "display_name": "hack2024",
   "language": "python",
   "name": "python3"
  },
  "language_info": {
   "codemirror_mode": {
    "name": "ipython",
    "version": 3
   },
   "file_extension": ".py",
   "mimetype": "text/x-python",
   "name": "python",
   "nbconvert_exporter": "python",
   "pygments_lexer": "ipython3",
   "version": "3.10.14"
  }
 },
 "nbformat": 4,
 "nbformat_minor": 2
}
