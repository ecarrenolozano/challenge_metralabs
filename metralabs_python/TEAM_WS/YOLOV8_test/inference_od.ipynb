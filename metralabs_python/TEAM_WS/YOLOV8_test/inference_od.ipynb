{
 "cells": [
  {
   "cell_type": "markdown",
   "metadata": {},
   "source": [
    "# Stage: **Inference**\n",
    "## Function: YOLOv8 (Object detection)"
   ]
  },
  {
   "cell_type": "markdown",
   "metadata": {},
   "source": [
    "### Importing libraries"
   ]
  },
  {
   "cell_type": "code",
   "execution_count": 1,
   "metadata": {},
   "outputs": [],
   "source": [
    "import json \n",
    "import os\n",
    "import cv2\n",
    "\n",
    "from matplotlib import pyplot as plt\n",
    "from ultralytics import YOLO"
   ]
  },
  {
   "cell_type": "markdown",
   "metadata": {},
   "source": [
    "### Paths for Datasets"
   ]
  },
  {
   "cell_type": "code",
   "execution_count": 2,
   "metadata": {},
   "outputs": [
    {
     "name": "stdout",
     "output_type": "stream",
     "text": [
      "Root dataset: \n",
      "\t/home/egcarren/datasets/dataset_for_yolo_splitted\n",
      "Root exist? : True\n"
     ]
    }
   ],
   "source": [
    "base_path = \"/home/egcarren/datasets\"\n",
    "datasets_main_folder = \"\"\n",
    "dataset = \"dataset_for_yolo_splitted\"\n",
    "\n",
    "root_path = os.path.join(base_path, datasets_main_folder, dataset)\n",
    "print(\"Root dataset: \\n\\t{}\".format(root_path))\n",
    "print(\"Root exist? : {}\".format(os.path.isdir(root_path)))"
   ]
  },
  {
   "cell_type": "markdown",
   "metadata": {},
   "source": [
    "#### Loading model "
   ]
  },
  {
   "cell_type": "code",
   "execution_count": null,
   "metadata": {},
   "outputs": [],
   "source": [
    "path_best_weights= \"./runs/detect/train/weights/best.pt\"\n",
    "model = YOLO(path_best_weights)"
   ]
  },
  {
   "cell_type": "code",
   "execution_count": null,
   "metadata": {},
   "outputs": [],
   "source": [
    "# Perform object detection on a test dataset \n",
    "test_path = os.path.join(root_path, \"/images/test\")\n",
    "\n",
    "# All the results are store here!\n",
    "results = model(test_path)"
   ]
  },
  {
   "cell_type": "code",
   "execution_count": null,
   "metadata": {},
   "outputs": [],
   "source": [
    "for result in results:\n",
    "    boxes = result.boxes  # Boxes object for bounding box outputs\n",
    "    masks = result.masks  # Masks object for segmentation masks outputs\n",
    "    keypoints = result.keypoints  # Keypoints object for pose outputs\n",
    "    probs = result.probs  # Probs object for classification outputs\n",
    "    obb = result.obb  # Oriented boxes object for OBB outputs\n",
    "    result.show()  # display to screen\n",
    "    result.save()  # save to disk"
   ]
  }
 ],
 "metadata": {
  "kernelspec": {
   "display_name": "hack2024",
   "language": "python",
   "name": "python3"
  },
  "language_info": {
   "codemirror_mode": {
    "name": "ipython",
    "version": 3
   },
   "file_extension": ".py",
   "mimetype": "text/x-python",
   "name": "python",
   "nbconvert_exporter": "python",
   "pygments_lexer": "ipython3",
   "version": "3.10.14"
  }
 },
 "nbformat": 4,
 "nbformat_minor": 2
}
