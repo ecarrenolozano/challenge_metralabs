{
 "cells": [
  {
   "cell_type": "markdown",
   "metadata": {},
   "source": [
    "# Stage: **Preprocessing**\n",
    "## Function: YOLO DataGenerator"
   ]
  },
  {
   "cell_type": "markdown",
   "metadata": {},
   "source": [
    "### Import libraries"
   ]
  },
  {
   "cell_type": "code",
   "execution_count": 1,
   "metadata": {},
   "outputs": [],
   "source": [
    "import os\n",
    "\n",
    "from yolosplitter import YoloSplitter"
   ]
  },
  {
   "cell_type": "markdown",
   "metadata": {},
   "source": [
    "### Paths for Datasets"
   ]
  },
  {
   "cell_type": "code",
   "execution_count": 2,
   "metadata": {},
   "outputs": [
    {
     "name": "stdout",
     "output_type": "stream",
     "text": [
      "Root dataset: \n",
      "\t/home/egcarren/datasets/datasets_1_2/dataset_for_yolo\n",
      "Root exist? : True\n"
     ]
    }
   ],
   "source": [
    "base_path = \"/home/egcarren/datasets\"\n",
    "datasets_main_folder = \"datasets_1_2\"\n",
    "dataset = \"dataset_for_yolo\"\n",
    "\n",
    "root_path = os.path.join(base_path, datasets_main_folder, dataset)\n",
    "print(\"Root dataset: \\n\\t{}\".format(root_path))\n",
    "print(\"Root exist? : {}\".format(os.path.isdir(root_path)))\n",
    "\n",
    "# Input Dataset\n",
    "start_dataset = root_path\n",
    "\n",
    "# Output dataset\n",
    "final_dataset = os.path.join(base_path, datasets_main_folder, \"dataset_for_yolo_splitted2\")"
   ]
  },
  {
   "cell_type": "markdown",
   "metadata": {},
   "source": [
    "### Invoke splitter"
   ]
  },
  {
   "cell_type": "code",
   "execution_count": 3,
   "metadata": {},
   "outputs": [
    {
     "name": "stdout",
     "output_type": "stream",
     "text": [
      "\n",
      "Train size:651,Validation size:186,Test size :93\n",
      "\n",
      "{'train': 651, 'val': 186, 'test': 93, 'cls_names': {0}, 'errors': 0}\n"
     ]
    },
    {
     "data": {
      "text/html": [
       "<div>\n",
       "<style scoped>\n",
       "    .dataframe tbody tr th:only-of-type {\n",
       "        vertical-align: middle;\n",
       "    }\n",
       "\n",
       "    .dataframe tbody tr th {\n",
       "        vertical-align: top;\n",
       "    }\n",
       "\n",
       "    .dataframe thead th {\n",
       "        text-align: right;\n",
       "    }\n",
       "</style>\n",
       "<table border=\"1\" class=\"dataframe\">\n",
       "  <thead>\n",
       "    <tr style=\"text-align: right;\">\n",
       "      <th></th>\n",
       "      <th>images</th>\n",
       "      <th>labels</th>\n",
       "      <th>annots</th>\n",
       "      <th>cls_names</th>\n",
       "      <th>set</th>\n",
       "      <th>new_set</th>\n",
       "    </tr>\n",
       "  </thead>\n",
       "  <tbody>\n",
       "    <tr>\n",
       "      <th>0</th>\n",
       "      <td>fnzyy.PNG</td>\n",
       "      <td>fnzyy.txt</td>\n",
       "      <td>[[0, [0.1349, 0.6023, 0.2542, 0.6065]], [0, [0...</td>\n",
       "      <td>[0]</td>\n",
       "      <td></td>\n",
       "      <td>train</td>\n",
       "    </tr>\n",
       "    <tr>\n",
       "      <th>1</th>\n",
       "      <td>yzplw.PNG</td>\n",
       "      <td>yzplw.txt</td>\n",
       "      <td>[[0, [0.7203, 0.6546, 0.2948, 0.4722]], [0, [0...</td>\n",
       "      <td>[0]</td>\n",
       "      <td></td>\n",
       "      <td>train</td>\n",
       "    </tr>\n",
       "    <tr>\n",
       "      <th>2</th>\n",
       "      <td>qgnea.PNG</td>\n",
       "      <td>qgnea.txt</td>\n",
       "      <td>[[0, [0.3089, 0.7051, 0.3156, 0.5565]], [0, [0...</td>\n",
       "      <td>[0]</td>\n",
       "      <td></td>\n",
       "      <td>train</td>\n",
       "    </tr>\n",
       "    <tr>\n",
       "      <th>3</th>\n",
       "      <td>psxhv.PNG</td>\n",
       "      <td>psxhv.txt</td>\n",
       "      <td>[[0, [0.5641, 0.2148, 0.2781, 0.3315]], [0, [0...</td>\n",
       "      <td>[0]</td>\n",
       "      <td></td>\n",
       "      <td>valid</td>\n",
       "    </tr>\n",
       "    <tr>\n",
       "      <th>4</th>\n",
       "      <td>yboki.PNG</td>\n",
       "      <td>yboki.txt</td>\n",
       "      <td>[[0, [0.1987, 0.7319, 0.3974, 0.5361]]]</td>\n",
       "      <td>[0]</td>\n",
       "      <td></td>\n",
       "      <td>train</td>\n",
       "    </tr>\n",
       "    <tr>\n",
       "      <th>...</th>\n",
       "      <td>...</td>\n",
       "      <td>...</td>\n",
       "      <td>...</td>\n",
       "      <td>...</td>\n",
       "      <td>...</td>\n",
       "      <td>...</td>\n",
       "    </tr>\n",
       "    <tr>\n",
       "      <th>925</th>\n",
       "      <td>bdhhk.PNG</td>\n",
       "      <td>bdhhk.txt</td>\n",
       "      <td>[[0, [0.3641, 0.419, 0.376, 0.2306]], [0, [0.7...</td>\n",
       "      <td>[0]</td>\n",
       "      <td></td>\n",
       "      <td>train</td>\n",
       "    </tr>\n",
       "    <tr>\n",
       "      <th>926</th>\n",
       "      <td>xfigf.PNG</td>\n",
       "      <td>xfigf.txt</td>\n",
       "      <td>[[0, [0.3727, 0.788, 0.2078, 0.2222]], [0, [0....</td>\n",
       "      <td>[0]</td>\n",
       "      <td></td>\n",
       "      <td>test</td>\n",
       "    </tr>\n",
       "    <tr>\n",
       "      <th>927</th>\n",
       "      <td>uwhwh.PNG</td>\n",
       "      <td>uwhwh.txt</td>\n",
       "      <td>[[0, [0.5521, 0.4866, 0.3073, 0.3861]], [0, [0...</td>\n",
       "      <td>[0]</td>\n",
       "      <td></td>\n",
       "      <td>test</td>\n",
       "    </tr>\n",
       "    <tr>\n",
       "      <th>928</th>\n",
       "      <td>ayeqy.PNG</td>\n",
       "      <td>ayeqy.txt</td>\n",
       "      <td>[[0, [0.5805, 0.7019, 0.2182, 0.5]], [0, [0.56...</td>\n",
       "      <td>[0]</td>\n",
       "      <td></td>\n",
       "      <td>valid</td>\n",
       "    </tr>\n",
       "    <tr>\n",
       "      <th>929</th>\n",
       "      <td>yowni.PNG</td>\n",
       "      <td>yowni.txt</td>\n",
       "      <td>[[0, [0.7562, 0.5718, 0.4875, 0.4398]]]</td>\n",
       "      <td>[0]</td>\n",
       "      <td></td>\n",
       "      <td>train</td>\n",
       "    </tr>\n",
       "  </tbody>\n",
       "</table>\n",
       "<p>930 rows × 6 columns</p>\n",
       "</div>"
      ],
      "text/plain": [
       "        images     labels                                             annots  \\\n",
       "0    fnzyy.PNG  fnzyy.txt  [[0, [0.1349, 0.6023, 0.2542, 0.6065]], [0, [0...   \n",
       "1    yzplw.PNG  yzplw.txt  [[0, [0.7203, 0.6546, 0.2948, 0.4722]], [0, [0...   \n",
       "2    qgnea.PNG  qgnea.txt  [[0, [0.3089, 0.7051, 0.3156, 0.5565]], [0, [0...   \n",
       "3    psxhv.PNG  psxhv.txt  [[0, [0.5641, 0.2148, 0.2781, 0.3315]], [0, [0...   \n",
       "4    yboki.PNG  yboki.txt            [[0, [0.1987, 0.7319, 0.3974, 0.5361]]]   \n",
       "..         ...        ...                                                ...   \n",
       "925  bdhhk.PNG  bdhhk.txt  [[0, [0.3641, 0.419, 0.376, 0.2306]], [0, [0.7...   \n",
       "926  xfigf.PNG  xfigf.txt  [[0, [0.3727, 0.788, 0.2078, 0.2222]], [0, [0....   \n",
       "927  uwhwh.PNG  uwhwh.txt  [[0, [0.5521, 0.4866, 0.3073, 0.3861]], [0, [0...   \n",
       "928  ayeqy.PNG  ayeqy.txt  [[0, [0.5805, 0.7019, 0.2182, 0.5]], [0, [0.56...   \n",
       "929  yowni.PNG  yowni.txt            [[0, [0.7562, 0.5718, 0.4875, 0.4398]]]   \n",
       "\n",
       "    cls_names set new_set  \n",
       "0         [0]       train  \n",
       "1         [0]       train  \n",
       "2         [0]       train  \n",
       "3         [0]       valid  \n",
       "4         [0]       train  \n",
       "..        ...  ..     ...  \n",
       "925       [0]       train  \n",
       "926       [0]        test  \n",
       "927       [0]        test  \n",
       "928       [0]       valid  \n",
       "929       [0]       train  \n",
       "\n",
       "[930 rows x 6 columns]"
      ]
     },
     "execution_count": 3,
     "metadata": {},
     "output_type": "execute_result"
    }
   ],
   "source": [
    "ys = YoloSplitter(imgFormat=['.jpg', '.jpeg', '.png', '.PNG'], labelFormat=['.txt'] )\n",
    "\n",
    "\n",
    "# If you have mixed Images and Labels in the same directory\n",
    "df = ys.from_mixed_dir(input_dir=start_dataset, ratio=(0.7,0.2,0.1), return_df=True)\n",
    "\n",
    "# To see train/test/val split size, total error files, all class names from annotation files\n",
    "ys.info()\n",
    "\n",
    "# To see dataframe related to image names, labels, annotations, etc\n",
    "ys.get_dataframe()"
   ]
  },
  {
   "cell_type": "markdown",
   "metadata": {},
   "source": [
    "### Splitting the dataset"
   ]
  },
  {
   "cell_type": "code",
   "execution_count": 4,
   "metadata": {},
   "outputs": [
    {
     "name": "stdout",
     "output_type": "stream",
     "text": [
      "Saving New split in '/home/egcarren/datasets/datasets_1_2/dataset_for_yolo_splitted2' dir\n"
     ]
    },
    {
     "name": "stderr",
     "output_type": "stream",
     "text": [
      "100%|██████████| 930/930 [00:01<00:00, 482.99it/s]"
     ]
    },
    {
     "name": "stdout",
     "output_type": "stream",
     "text": [
      "End of process...\n"
     ]
    },
    {
     "name": "stderr",
     "output_type": "stream",
     "text": [
      "\n"
     ]
    }
   ],
   "source": [
    "ys.save_split(output_dir=final_dataset)\n",
    "print(\"End of process...\")"
   ]
  }
 ],
 "metadata": {
  "kernelspec": {
   "display_name": "yolov8",
   "language": "python",
   "name": "python3"
  },
  "language_info": {
   "codemirror_mode": {
    "name": "ipython",
    "version": 3
   },
   "file_extension": ".py",
   "mimetype": "text/x-python",
   "name": "python",
   "nbconvert_exporter": "python",
   "pygments_lexer": "ipython3",
   "version": "3.10.14"
  }
 },
 "nbformat": 4,
 "nbformat_minor": 2
}
